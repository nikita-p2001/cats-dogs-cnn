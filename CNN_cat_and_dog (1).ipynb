{
 "cells": [
  {
   "cell_type": "code",
   "execution_count": 1,
   "id": "90a2c9f1",
   "metadata": {},
   "outputs": [],
   "source": [
    "import numpy as np\n",
    "import pandas as pd \n",
    "import seaborn as sns\n",
    "import warnings\n",
    "warnings.filterwarnings('ignore')\n",
    "import matplotlib.pyplot as plt"
   ]
  },
  {
   "cell_type": "code",
   "execution_count": 2,
   "id": "f7854065",
   "metadata": {},
   "outputs": [],
   "source": [
    "import matplotlib.image as mpimg\n",
    "from tensorflow import keras\n",
    "from tensorflow.keras import layers\n",
    "from keras.models import load_model\n",
    "import tensorflow as tf"
   ]
  },
  {
   "cell_type": "code",
   "execution_count": 3,
   "id": "6e07aa35",
   "metadata": {},
   "outputs": [],
   "source": [
    "from keras.preprocessing.image import ImageDataGenerator"
   ]
  },
  {
   "cell_type": "code",
   "execution_count": 4,
   "id": "407d6c35",
   "metadata": {},
   "outputs": [],
   "source": [
    "train_dir = r\"D:\\cats_dogs\\dataset\\training_set\"\n",
    "test_dir = r\"D:\\cats_dogs\\dataset\\test_set\""
   ]
  },
  {
   "cell_type": "code",
   "execution_count": 5,
   "id": "d8c633fb",
   "metadata": {},
   "outputs": [],
   "source": [
    "train_datagen = ImageDataGenerator(\n",
    "        rotation_range=40,\n",
    "        width_shift_range=0.2,\n",
    "        height_shift_range=0.2,\n",
    "        rescale=1./255,\n",
    "        shear_range=0.2,\n",
    "        zoom_range=0.2,\n",
    "        horizontal_flip=True,\n",
    "        fill_mode='nearest')\n",
    "\n",
    "test_datagen = ImageDataGenerator(\n",
    "        rotation_range=40,\n",
    "        width_shift_range=0.2,\n",
    "        height_shift_range=0.2,\n",
    "        rescale=1./255,\n",
    "        shear_range=0.2,\n",
    "        zoom_range=0.2,\n",
    "        horizontal_flip=True,\n",
    "        fill_mode='nearest')"
   ]
  },
  {
   "cell_type": "code",
   "execution_count": 6,
   "id": "62387dec",
   "metadata": {},
   "outputs": [],
   "source": [
    "target_size=(124, 124)\n",
    "batch_size = 10\n",
    "no_epochs = 30\n",
    "steps_per_epochs = no_epochs // batch_size"
   ]
  },
  {
   "cell_type": "code",
   "execution_count": 7,
   "id": "11e0f223",
   "metadata": {},
   "outputs": [
    {
     "name": "stdout",
     "output_type": "stream",
     "text": [
      "Found 8000 images belonging to 2 classes.\n",
      "Found 2000 images belonging to 2 classes.\n"
     ]
    }
   ],
   "source": [
    "train_generator = train_datagen.flow_from_directory(train_dir,target_size=(124, 124),batch_size=batch_size,class_mode='binary')\n",
    "test_generator = test_datagen.flow_from_directory(test_dir,target_size=(124, 124),batch_size=batch_size,class_mode='binary')"
   ]
  },
  {
   "cell_type": "code",
   "execution_count": 8,
   "id": "8141752f",
   "metadata": {},
   "outputs": [
    {
     "name": "stdout",
     "output_type": "stream",
     "text": [
      "Model: \"sequential\"\n",
      "_________________________________________________________________\n",
      " Layer (type)                Output Shape              Param #   \n",
      "=================================================================\n",
      " conv2d (Conv2D)             (None, 122, 122, 32)      896       \n",
      "                                                                 \n",
      " max_pooling2d (MaxPooling2D  (None, 61, 61, 32)       0         \n",
      " )                                                               \n",
      "                                                                 \n",
      " dropout (Dropout)           (None, 61, 61, 32)        0         \n",
      "                                                                 \n",
      " conv2d_1 (Conv2D)           (None, 59, 59, 64)        18496     \n",
      "                                                                 \n",
      " conv2d_2 (Conv2D)           (None, 57, 57, 128)       73856     \n",
      "                                                                 \n",
      " max_pooling2d_1 (MaxPooling  (None, 28, 28, 128)      0         \n",
      " 2D)                                                             \n",
      "                                                                 \n",
      " conv2d_3 (Conv2D)           (None, 26, 26, 526)       606478    \n",
      "                                                                 \n",
      " max_pooling2d_2 (MaxPooling  (None, 13, 13, 526)      0         \n",
      " 2D)                                                             \n",
      "                                                                 \n",
      " flatten (Flatten)           (None, 88894)             0         \n",
      "                                                                 \n",
      " dropout_1 (Dropout)         (None, 88894)             0         \n",
      "                                                                 \n",
      " dense (Dense)               (None, 1)                 88895     \n",
      "                                                                 \n",
      "=================================================================\n",
      "Total params: 788,621\n",
      "Trainable params: 788,621\n",
      "Non-trainable params: 0\n",
      "_________________________________________________________________\n"
     ]
    }
   ],
   "source": [
    "model = keras.Sequential(\n",
    "    [\n",
    "        keras.Input(shape=(124,124,3)),\n",
    "        layers.Conv2D(32, kernel_size=(3, 3), activation=\"relu\"),\n",
    "        layers.MaxPooling2D(pool_size=(2, 2)),\n",
    "        layers.Dropout(0.5),\n",
    "        layers.Conv2D(64, kernel_size=(3, 3), activation=\"relu\"),\n",
    "        layers.Conv2D(128, kernel_size=(3, 3), activation=\"relu\"),\n",
    "        layers.MaxPooling2D(pool_size=(2, 2)),\n",
    "        layers.Conv2D(526, kernel_size=(3, 3), activation=\"relu\"),\n",
    "        layers.MaxPooling2D(pool_size=(2, 2)),\n",
    "        layers.Flatten(),\n",
    "        layers.Dropout(0.5),\n",
    "        layers.Dense(1, activation=\"sigmoid\"),\n",
    "    ]\n",
    ")\n",
    "\n",
    "model.summary()"
   ]
  },
  {
   "cell_type": "code",
   "execution_count": 9,
   "id": "5e292436",
   "metadata": {},
   "outputs": [],
   "source": [
    "model.compile(loss='binary_crossentropy',optimizer='adam',metrics=['accuracy'])"
   ]
  },
  {
   "cell_type": "code",
   "execution_count": 10,
   "id": "2257d927",
   "metadata": {},
   "outputs": [
    {
     "name": "stdout",
     "output_type": "stream",
     "text": [
      "Epoch 1/30\n",
      "3/3 [==============================] - 8s 2s/step - loss: 1.2609 - accuracy: 0.4000 - val_loss: 0.6887 - val_accuracy: 0.5333\n",
      "Epoch 2/30\n",
      "3/3 [==============================] - 5s 2s/step - loss: 0.7025 - accuracy: 0.6333 - val_loss: 0.6686 - val_accuracy: 0.6333\n",
      "Epoch 3/30\n",
      "3/3 [==============================] - 5s 2s/step - loss: 0.7272 - accuracy: 0.5333 - val_loss: 0.6928 - val_accuracy: 0.5333\n",
      "Epoch 4/30\n",
      "3/3 [==============================] - 5s 2s/step - loss: 0.6938 - accuracy: 0.4333 - val_loss: 0.6909 - val_accuracy: 0.6667\n",
      "Epoch 5/30\n",
      "3/3 [==============================] - 5s 2s/step - loss: 0.6952 - accuracy: 0.4000 - val_loss: 0.6957 - val_accuracy: 0.4000\n",
      "Epoch 6/30\n",
      "3/3 [==============================] - 5s 2s/step - loss: 0.6946 - accuracy: 0.4667 - val_loss: 0.6951 - val_accuracy: 0.4333\n",
      "Epoch 7/30\n",
      "3/3 [==============================] - 4s 2s/step - loss: 0.6954 - accuracy: 0.4333 - val_loss: 0.6937 - val_accuracy: 0.4667\n",
      "Epoch 8/30\n",
      "3/3 [==============================] - 5s 2s/step - loss: 0.6951 - accuracy: 0.4000 - val_loss: 0.6929 - val_accuracy: 0.6667\n",
      "Epoch 9/30\n",
      "3/3 [==============================] - 4s 1s/step - loss: 0.6931 - accuracy: 0.4333 - val_loss: 0.6933 - val_accuracy: 0.4667\n",
      "Epoch 10/30\n",
      "3/3 [==============================] - 4s 1s/step - loss: 0.6940 - accuracy: 0.4667 - val_loss: 0.6910 - val_accuracy: 0.6333\n",
      "Epoch 11/30\n",
      "3/3 [==============================] - 4s 2s/step - loss: 0.6935 - accuracy: 0.5000 - val_loss: 0.6887 - val_accuracy: 0.7000\n",
      "Epoch 12/30\n",
      "3/3 [==============================] - 4s 2s/step - loss: 0.6911 - accuracy: 0.5667 - val_loss: 0.6916 - val_accuracy: 0.5667\n",
      "Epoch 13/30\n",
      "3/3 [==============================] - 4s 2s/step - loss: 0.6843 - accuracy: 0.7000 - val_loss: 0.6935 - val_accuracy: 0.5000\n",
      "Epoch 14/30\n",
      "3/3 [==============================] - 4s 2s/step - loss: 0.6853 - accuracy: 0.6333 - val_loss: 0.7143 - val_accuracy: 0.2667\n",
      "Epoch 15/30\n",
      "3/3 [==============================] - 4s 2s/step - loss: 0.7043 - accuracy: 0.4333 - val_loss: 0.7006 - val_accuracy: 0.4333\n",
      "Epoch 16/30\n",
      "3/3 [==============================] - 4s 2s/step - loss: 0.6842 - accuracy: 0.6000 - val_loss: 0.7078 - val_accuracy: 0.3667\n",
      "Epoch 17/30\n",
      "3/3 [==============================] - 4s 1s/step - loss: 0.6871 - accuracy: 0.5667 - val_loss: 0.7028 - val_accuracy: 0.4333\n",
      "Epoch 18/30\n",
      "3/3 [==============================] - 4s 2s/step - loss: 0.6674 - accuracy: 0.6667 - val_loss: 0.7014 - val_accuracy: 0.4667\n",
      "Epoch 19/30\n",
      "3/3 [==============================] - 4s 2s/step - loss: 0.6845 - accuracy: 0.5667 - val_loss: 0.6596 - val_accuracy: 0.7000\n",
      "Epoch 20/30\n",
      "3/3 [==============================] - 4s 2s/step - loss: 0.6753 - accuracy: 0.6000 - val_loss: 0.6929 - val_accuracy: 0.5333\n",
      "Epoch 21/30\n",
      "3/3 [==============================] - 5s 2s/step - loss: 0.7683 - accuracy: 0.3667 - val_loss: 0.6972 - val_accuracy: 0.5000\n",
      "Epoch 22/30\n",
      "3/3 [==============================] - 5s 2s/step - loss: 0.6890 - accuracy: 0.5667 - val_loss: 0.7158 - val_accuracy: 0.3333\n",
      "Epoch 23/30\n",
      "3/3 [==============================] - 4s 1s/step - loss: 0.6665 - accuracy: 0.7000 - val_loss: 0.6953 - val_accuracy: 0.5000\n",
      "Epoch 24/30\n",
      "3/3 [==============================] - 4s 2s/step - loss: 0.6916 - accuracy: 0.5333 - val_loss: 0.6907 - val_accuracy: 0.5333\n",
      "Epoch 25/30\n",
      "3/3 [==============================] - 4s 1s/step - loss: 0.7029 - accuracy: 0.4667 - val_loss: 0.7182 - val_accuracy: 0.3333\n",
      "Epoch 26/30\n",
      "3/3 [==============================] - 4s 1s/step - loss: 0.6906 - accuracy: 0.5333 - val_loss: 0.6908 - val_accuracy: 0.5333\n",
      "Epoch 27/30\n",
      "3/3 [==============================] - 4s 1s/step - loss: 0.7095 - accuracy: 0.4000 - val_loss: 0.6768 - val_accuracy: 0.6667\n",
      "Epoch 28/30\n",
      "3/3 [==============================] - 4s 1s/step - loss: 0.6979 - accuracy: 0.4667 - val_loss: 0.6967 - val_accuracy: 0.4667\n",
      "Epoch 29/30\n",
      "3/3 [==============================] - 4s 1s/step - loss: 0.6894 - accuracy: 0.5667 - val_loss: 0.6911 - val_accuracy: 0.5333\n",
      "Epoch 30/30\n",
      "3/3 [==============================] - 4s 1s/step - loss: 0.6940 - accuracy: 0.5000 - val_loss: 0.6959 - val_accuracy: 0.4333\n"
     ]
    },
    {
     "data": {
      "text/plain": [
       "<keras.callbacks.History at 0x1d799ba44c0>"
      ]
     },
     "execution_count": 10,
     "metadata": {},
     "output_type": "execute_result"
    }
   ],
   "source": [
    "model.fit_generator(train_generator,steps_per_epoch=steps_per_epochs,epochs=no_epochs,validation_data=test_generator,\n",
    "        validation_steps=30//batch_size)"
   ]
  },
  {
   "cell_type": "code",
   "execution_count": 11,
   "id": "3e346204",
   "metadata": {},
   "outputs": [
    {
     "name": "stdout",
     "output_type": "stream",
     "text": [
      "200/200 [==============================] - 73s 363ms/step - loss: 0.6931 - accuracy: 0.5000\n",
      "[0.6930943131446838, 0.5]\n"
     ]
    }
   ],
   "source": [
    "print(model.evaluate_generator(test_generator,verbose=1))"
   ]
  },
  {
   "cell_type": "code",
   "execution_count": 12,
   "id": "a44206f0",
   "metadata": {},
   "outputs": [
    {
     "data": {
      "text/plain": [
       "['cats', 'dogs']"
      ]
     },
     "execution_count": 12,
     "metadata": {},
     "output_type": "execute_result"
    }
   ],
   "source": [
    "actual_class = train_generator.class_indices\n",
    "y_classes = list(actual_class.keys())\n",
    "y_classes"
   ]
  },
  {
   "cell_type": "code",
   "execution_count": 14,
   "id": "14d82577",
   "metadata": {},
   "outputs": [
    {
     "name": "stdout",
     "output_type": "stream",
     "text": [
      "^C\n",
      "Note: you may need to restart the kernel to use updated packages.\n"
     ]
    }
   ],
   "source": [
    "#pip install opencv-python"
   ]
  },
  {
   "cell_type": "code",
   "execution_count": 15,
   "id": "e2ab962a",
   "metadata": {},
   "outputs": [],
   "source": [
    "import cv2"
   ]
  },
  {
   "cell_type": "code",
   "execution_count": 18,
   "id": "a5a1ae73",
   "metadata": {},
   "outputs": [
    {
     "ename": "error",
     "evalue": "OpenCV(4.6.0) D:\\a\\opencv-python\\opencv-python\\opencv\\modules\\imgproc\\src\\resize.cpp:4052: error: (-215:Assertion failed) !ssize.empty() in function 'cv::resize'\n",
     "output_type": "error",
     "traceback": [
      "\u001b[1;31m---------------------------------------------------------------------------\u001b[0m",
      "\u001b[1;31merror\u001b[0m                                     Traceback (most recent call last)",
      "\u001b[1;32m~\\AppData\\Local\\Temp/ipykernel_14192/2599105294.py\u001b[0m in \u001b[0;36m<module>\u001b[1;34m\u001b[0m\n\u001b[0;32m      1\u001b[0m \u001b[0mimage\u001b[0m \u001b[1;33m=\u001b[0m \u001b[0mcv2\u001b[0m\u001b[1;33m.\u001b[0m\u001b[0mimread\u001b[0m\u001b[1;33m(\u001b[0m\u001b[1;34m'D:\\cats_dogs\\dataset\\test_set\\cats\\cat.4041.jpg'\u001b[0m\u001b[1;33m)\u001b[0m\u001b[1;33m\u001b[0m\u001b[1;33m\u001b[0m\u001b[0m\n\u001b[1;32m----> 2\u001b[1;33m \u001b[0mimage\u001b[0m \u001b[1;33m=\u001b[0m \u001b[0mcv2\u001b[0m\u001b[1;33m.\u001b[0m\u001b[0mresize\u001b[0m\u001b[1;33m(\u001b[0m\u001b[0mimage\u001b[0m\u001b[1;33m,\u001b[0m\u001b[1;33m(\u001b[0m\u001b[1;36m224\u001b[0m\u001b[1;33m,\u001b[0m\u001b[1;36m224\u001b[0m\u001b[1;33m)\u001b[0m\u001b[1;33m)\u001b[0m\u001b[1;33m\u001b[0m\u001b[1;33m\u001b[0m\u001b[0m\n\u001b[0m\u001b[0;32m      3\u001b[0m \u001b[0mplt\u001b[0m\u001b[1;33m.\u001b[0m\u001b[0mimshow\u001b[0m\u001b[1;33m(\u001b[0m\u001b[0mcv2\u001b[0m\u001b[1;33m.\u001b[0m\u001b[0mcvtColor\u001b[0m\u001b[1;33m(\u001b[0m\u001b[0mimage\u001b[0m\u001b[1;33m,\u001b[0m \u001b[0mcv2\u001b[0m\u001b[1;33m.\u001b[0m\u001b[0mCOLOR_BGR2RGB\u001b[0m\u001b[1;33m)\u001b[0m\u001b[1;33m)\u001b[0m\u001b[1;33m\u001b[0m\u001b[1;33m\u001b[0m\u001b[0m\n\u001b[0;32m      4\u001b[0m \u001b[0mplt\u001b[0m\u001b[1;33m.\u001b[0m\u001b[0mshow\u001b[0m\u001b[1;33m(\u001b[0m\u001b[1;33m)\u001b[0m\u001b[1;33m\u001b[0m\u001b[1;33m\u001b[0m\u001b[0m\n",
      "\u001b[1;31merror\u001b[0m: OpenCV(4.6.0) D:\\a\\opencv-python\\opencv-python\\opencv\\modules\\imgproc\\src\\resize.cpp:4052: error: (-215:Assertion failed) !ssize.empty() in function 'cv::resize'\n"
     ]
    }
   ],
   "source": [
    "image = cv2.imread('D:\\cats_dogs\\dataset\\test_set\\cats\\cat.4041.jpg')\n",
    "image = cv2.resize(image,(224,224))\n",
    "plt.imshow(cv2.cvtColor(image, cv2.COLOR_BGR2RGB))\n",
    "plt.show()"
   ]
  },
  {
   "cell_type": "code",
   "execution_count": null,
   "id": "07eb1330",
   "metadata": {},
   "outputs": [],
   "source": [
    "prediction = model.predict(np.expand_dims(image,axis=0))\n",
    "print(\"Prediction is : \",y_classes[prediction.argmax(axis=-1)[0]])"
   ]
  }
 ],
 "metadata": {
  "kernelspec": {
   "display_name": "Python 3 (ipykernel)",
   "language": "python",
   "name": "python3"
  },
  "language_info": {
   "codemirror_mode": {
    "name": "ipython",
    "version": 3
   },
   "file_extension": ".py",
   "mimetype": "text/x-python",
   "name": "python",
   "nbconvert_exporter": "python",
   "pygments_lexer": "ipython3",
   "version": "3.9.7"
  }
 },
 "nbformat": 4,
 "nbformat_minor": 5
}
